{
 "cells": [
  {
   "cell_type": "markdown",
   "id": "f2630398",
   "metadata": {},
   "source": [
    "# SVD Basics - Optimizations\n",
    "Optimizations make SVD \"robust\":\n",
    "* Reducing sensitivity to outliers (large, sparse errors)\n",
    "* Handling missing data without biasing the low-rank approximation\n",
    "* Using alternative norms or iterative methods to approximate SVD"
   ]
  },
  {
   "cell_type": "markdown",
   "id": "7ff14b3e",
   "metadata": {},
   "source": [
    "## Background\n",
    "\n",
    "### Norms\n",
    "\n",
    "**Norms**\n",
    "* Functions that assign a non-negative real number to an element in vector space, that satisfy the following properties:\n",
    "  * Non-negativity: always $\\geq 0$, $=0$ only for the zero vector.\n",
    "  * Scalar multiplication: if element is multiplied by a scalar $a$, then norm is multiplied by $|a|$.\n",
    "  * Triangle inequality: norm of a sum is $\\leq$ sum of norms of individual elements.\n",
    "* Norms turn abstract vector spaces into measurable ones. They generalize the idea of \"distance\" beyond the Physical world.\n",
    "\n",
    "**$L_p$ vector norms**\n",
    "* $L_2$ norm (Euclidean norm)\n",
    "  * Size doesn't change if the vector is rotated.\n",
    "$$\n",
    "||\\overline{x}||_2 = \\sqrt{\\sum_{i=1}^n x_i^2}\n",
    "$$\n",
    "\n",
    "* $L_1$ norm (Manhattan norm)\n",
    "  * Penalizes small values less that $L_2$ norm.\n",
    "$$\n",
    "||\\overline{x}||_1 = \\sum_{i=1}^n{x_i}\n",
    "$$\n",
    "\n",
    "* $L_\\infty$ norm (Infinity/Chebyshev norm)\n",
    "  * Measures the largest absolute value in the vector.\n",
    "$$\n",
    "||\\overline{x}||_\\infty = \\max_{i=1} |x_i|\n",
    "$$\n",
    "\n",
    "**Matrix norms**\n",
    "* Frobenius norm - measures the total energy of the matrix grid. \n",
    "* Induced norm - if $p=2$, then equals the largest singular value of the matrix.\n",
    "* Nuclear norm - sum of singular values (for SVD)."
   ]
  },
  {
   "cell_type": "markdown",
   "id": "7f795e51",
   "metadata": {},
   "source": [
    "## Optimizations\n",
    "\n",
    "**Outlier rejection**\n",
    "* Data points that are significantly different from the expected distribution.\n",
    "* E.g. corrupted data entries due to transmission errors in 5G networks.\n",
    "* 3 steps\n",
    "    1. Detect outliers using statistical methods (e.g., Z-score, IQR).\n",
    "    2. Threshold and remove outliers. \n",
    "    3. Compute SVD on the cleaned data.\n",
    "\n",
    "**Missing data imputation**\n",
    "* SVD requires a full matrix\n",
    "* Expectation-maximization (EM) algorithm\n",
    "  * Missing values initialized with mean or median\n",
    "  * SVD computed\n",
    "  * Missing values updated based on SVD results\n",
    "  * Iterated until convergence"
   ]
  },
  {
   "cell_type": "markdown",
   "id": "313573f7",
   "metadata": {},
   "source": [
    "## SVD Algorithms\n",
    "\n",
    "* Alternating L1 SVD - Replaces $L_2$ norm with $L_1$ norm in the optimization problem.\n",
    "$$\n",
    "\\arg\\min_{U, \\Sigma, V} ||A - (U \\Sigma V^T)_{ij}||_1\n",
    "$$\n",
    "\n",
    "* Principal Component Pursuit (PCP)\n",
    "* IRLS - Iterative Re-weighted Least Squares\n",
    "* Kernel robust PCA\n",
    "* etc"
   ]
  }
 ],
 "metadata": {
  "language_info": {
   "name": "python"
  }
 },
 "nbformat": 4,
 "nbformat_minor": 5
}
