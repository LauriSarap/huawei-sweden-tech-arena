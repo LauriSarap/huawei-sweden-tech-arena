{
 "cells": [
  {
   "cell_type": "markdown",
   "id": "f2630398",
   "metadata": {},
   "source": [
    "# SVD Basics\n",
    "\n",
    "## Classical SVD\n"
   ]
  }
 ],
 "metadata": {
  "language_info": {
   "name": "python"
  }
 },
 "nbformat": 4,
 "nbformat_minor": 5
}
