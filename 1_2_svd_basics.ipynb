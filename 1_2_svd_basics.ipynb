{
 "cells": [
  {
   "cell_type": "markdown",
   "id": "f2630398",
   "metadata": {},
   "source": [
    "# SVD Basics - Optimizations\n",
    "Optimizations make SVD \"robust\":\n",
    "* Reducing sensitivity to outliers (large, sparse errors)\n",
    "* Handling missing data without biasing the low-rank approximation\n",
    "* Using alternative norms or iterative methods to approximate SVD"
   ]
  },
  {
   "cell_type": "markdown",
   "id": "7ff14b3e",
   "metadata": {},
   "source": [
    "## Background\n",
    "\n",
    "### Norms\n",
    "\n",
    "**Norms**\n",
    "* Functions that assign a non-negative real number to an element in vector space, that satisfy the following properties:\n",
    "  * Non-negativity: always $\\geq 0$, $=0$ only for the zero vector.\n",
    "  * Scalar multiplication: if element is multiplied by a scalar $a$, then norm is multiplied by $|a|$.\n",
    "  * Triangle inequality: norm of a sum is $\\leq$ sum of norms of individual elements.\n",
    "* Norms turn abstract vector spaces into measurable ones. They generalize the idea of \"distance\" beyond the Physical world.\n",
    "\n",
    "**$L_p$ vector norms**\n",
    "* $L_2$ norm (Euclidean norm)\n",
    "  * $||\\overline{x}||_2 = \\sqrt{\\sum_{i=1}^n x_i^2}$\n",
    "  * Size doesn't change if the vector is rotated.\n",
    "\n",
    "* $L_1$ norm (Manhattan norm)\n",
    "  * $||\\overline{x}||_1 = \\sum_{i=1}^n{x_i}$\n",
    "  * Penalizes small values less that $L_2$ norm.\n",
    "\n",
    "* $L_\\infty$ norm (Infinity/Chebyshev norm)\n",
    "  * $||\\overline{x}||_\\infty = \\max_{i=1} |x_i|$\n",
    "  * Measures the largest absolute value in the vector.\n",
    "\n",
    "**Matrix norms**\n",
    "* Frobenius norm - measures the total energy of the matrix grid. \n",
    "* Induced norm - if $p=2$, then equals the largest singular value of the matrix.\n",
    "* Nuclear norm - sum of singular values (for SVD)."
   ]
  },
  {
   "cell_type": "markdown",
   "id": "7f795e51",
   "metadata": {},
   "source": [
    "## Outlier rejection"
   ]
  }
 ],
 "metadata": {
  "language_info": {
   "name": "python"
  }
 },
 "nbformat": 4,
 "nbformat_minor": 5
}
