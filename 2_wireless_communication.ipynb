{
 "cells": [
  {
   "cell_type": "markdown",
   "id": "6969e62f",
   "metadata": {},
   "source": [
    "# Wilress Communication\n",
    "\n",
    "## Fundamentals of Wireless Communication\n",
    "\n",
    "**Wireless communication**\n",
    "* The transfer of information from one point to another without the use of wires or cables.\n",
    "* Uses radio waves (electromagnetic waves) to transmit data.\n",
    "\n",
    "**Building blocks**\n",
    "* **Transmitter**: Converts information into an EM signal. This includes modulation (altering the wave's frequency, amplitude, or phase)\n",
    "* **Channel**: The path signal travels through. Signals can fade, get distorted, or be interfered by the environment\n",
    "* **Receiver**: Captures the EM signal, converts it back into information\n",
    "\n",
    "## Methods\n",
    "\n",
    "**MIMO (Multiple Input Multiple Output)**\n",
    "* SISO - Single Input Single Output, so one antenna at the transmitter and one at the receiver\n",
    "* MIMO - Multiple Input Multiple Output, so multiple antennas at both the transmitter and receiver\n",
    "* More antennas allow for more data to be transmitted simultaneously (similar to a highway with multiple lanes)\n",
    "* If you have $M$ transmitter antennas and $N$ receiver antennas, you can create $ \\min(M, N) $ independent data streams\n",
    "\n",
    "<div align=\"center\">\n",
    "<img src=\"media/8x8_massive_mimo_antenna.jpg\" alt=\"8x8 Massive MIMO Antenna\" width=\"300\" height=\"300\"/>\n",
    "<p><em>An 8x8 massive MIMO antenna</em></p>\n",
    "</div>\n",
    "\n",
    "1) Transmitter sends multiple data streams\n",
    "2) Multipath causes each receiver antenna to get a unique combination of the data streams\n",
    "3) Reciever uses signal processing to separate and decode the data streams\n",
    "\n",
    "**Beamforming**\n",
    "* Uses multiple antennas to focus the signal in a specific direction\n",
    "* Signals interfere constructively or destructively\n",
    "* By changing the phase and amplitude of the signal at each antenna, a \"beam\" can be created that points towards the receiver\n",
    "\n",
    "**CSI (Channel State Information)**\n",
    "* CSI - map of the wireless channel\n",
    "* Contains data about how the signal distorts between the transmitter and receiver"
   ]
  },
  {
   "cell_type": "markdown",
   "id": "2506970c",
   "metadata": {},
   "source": [
    "## MIMO SVD Communication\n",
    "\n",
    "* Input vector $\\overline{x}$ is the data to be transmitted from each transmitter antenna ($x_1, x_2, \\ldots, x_n$)\n",
    "* Output vector $\\overline{y}$ is the received signal at each receiver antenna ($y_1, y_2, \\ldots, y_m$)\n",
    "* The relationship between input and output can be expressed as a matrix equation:\n",
    "$$\n",
    "\\overline{y} = \\mathbf{H} \\cdot \\overline{x} + \\overline{n}$$\n",
    "\n",
    "## G-s\n",
    "* 1G\n",
    "    * 1980s\n",
    "    * analog voice communication\n",
    "* 2G\n",
    "    * 1990s\n",
    "    * digital voice communication, SMS\n",
    "    * ~14 kbps data rate\n",
    "* 3G\n",
    "    * 2000s\n",
    "    * mobile internet, video calls\n",
    "    * ~2 Mbps data rate\n",
    "* 4G\n",
    "    * 2010s\n",
    "    * ~100 Mbps data rate\n",
    "* 5G\n",
    "    * 2019+\n",
    "    * ~20 Gbps peak data rate"
   ]
  }
 ],
 "metadata": {
  "language_info": {
   "name": "python"
  }
 },
 "nbformat": 4,
 "nbformat_minor": 5
}
